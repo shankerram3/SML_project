{
 "cells": [
  {
   "cell_type": "code",
   "execution_count": 2,
   "id": "98d1441f-4c80-4e6c-a646-55f6f8837b04",
   "metadata": {},
   "outputs": [
    {
     "name": "stderr",
     "output_type": "stream",
     "text": [
      "Processing: 100%|█████████▉| 19946/20000 [01:06<00:00, 642.51files/s]"
     ]
    },
    {
     "name": "stdout",
     "output_type": "stream",
     "text": [
      "Number of files in 'real_images' folder: 0\n",
      "Number of files in 'fake_images' folder: 10000\n",
      "Images separated into real and fake folders.\n"
     ]
    },
    {
     "name": "stderr",
     "output_type": "stream",
     "text": [
      "Processing: 100%|██████████| 20000/20000 [01:21<00:00, 642.51files/s]"
     ]
    }
   ],
   "source": [
    "import os\n",
    "import shutil\n",
    "import pandas as pd\n",
    "from tqdm import tqdm\n",
    "\n",
    "# Define the main folder path\n",
    "main_folder = '/home/rharikr3/datasets_unprocessed/kaggle/diffusion_gan'\n",
    "output_folder = '/scratch/rharikr3/output/latent_diffusion'\n",
    "# Check if the main folder exists\n",
    "if not os.path.exists(main_folder):\n",
    "    print(f\"Main folder '{main_folder}' not found.\")\n",
    "    exit()\n",
    "\n",
    "# Find CSV file at the root of the main folder\n",
    "csv_file = None\n",
    "for file in os.listdir(main_folder):\n",
    "    if file.endswith('.csv'):\n",
    "        csv_file = os.path.join(main_folder, file)\n",
    "        break\n",
    "\n",
    "# Check if CSV file exists\n",
    "if csv_file is None:\n",
    "    print(\"CSV file not found in the root of the main folder.\")\n",
    "    exit()\n",
    "\n",
    "# Read the CSV file\n",
    "df = pd.read_csv(csv_file)\n",
    "\n",
    "# Create real and fake folders\n",
    "real_folder = os.path.join(output_folder, 'real_images')\n",
    "fake_folder = os.path.join(output_folder, 'fake_images')\n",
    "os.makedirs(real_folder, exist_ok=True)\n",
    "os.makedirs(fake_folder, exist_ok=True)\n",
    "\n",
    "# Initialize progress bar\n",
    "total_files = len(df)\n",
    "progress_bar = tqdm(total=total_files, desc=\"Processing\", unit=\"files\")\n",
    "\n",
    "# Iterate through each row in the CSV file\n",
    "for index, row in df.iterrows():\n",
    "    image_path = os.path.join(main_folder, row['image_path'])\n",
    "    target_label = row['target']\n",
    "    \n",
    "    # Check if the image file exists\n",
    "    if os.path.exists(image_path):\n",
    "        if target_label == 0:\n",
    "            shutil.copy(image_path, real_folder)\n",
    "        elif 1 <= target_label <= 6:\n",
    "            shutil.copy(image_path, fake_folder)\n",
    "    \n",
    "    # Update progress bar\n",
    "    progress_bar.update(1)\n",
    "\n",
    "# Close the progress bar\n",
    "progress_bar.close\n",
    "# Count the number of files in each output directory\n",
    "real_files_count = len(os.listdir(real_folder))\n",
    "fake_files_count = len(os.listdir(fake_folder))\n",
    "print(f\"Number of files in 'real_images' folder: {real_files_count}\")\n",
    "print(f\"Number of files in 'fake_images' folder: {fake_files_count}\")\n",
    "\n",
    "print(\"Images separated into real and fake folders.\")\n"
   ]
  },
  {
   "cell_type": "code",
   "execution_count": null,
   "id": "fefafd50-5a25-4369-93dd-7855a9fa85d4",
   "metadata": {},
   "outputs": [],
   "source": []
  }
 ],
 "metadata": {
  "kernelspec": {
   "display_name": "Python 3 (ipykernel)",
   "language": "python",
   "name": "python3"
  },
  "language_info": {
   "codemirror_mode": {
    "name": "ipython",
    "version": 3
   },
   "file_extension": ".py",
   "mimetype": "text/x-python",
   "name": "python",
   "nbconvert_exporter": "python",
   "pygments_lexer": "ipython3",
   "version": "3.11.6"
  }
 },
 "nbformat": 4,
 "nbformat_minor": 5
}
