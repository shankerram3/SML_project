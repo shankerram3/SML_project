{
 "cells": [
  {
   "cell_type": "code",
   "execution_count": null,
   "id": "98d1441f-4c80-4e6c-a646-55f6f8837b04",
   "metadata": {},
   "outputs": [],
   "source": [
    "import os\n",
    "import shutil\n",
    "import pandas as pd\n",
    "from tqdm import tqdm  # Import tqdm for progress bar\n",
    "\n",
    "# Define the path to the main folder containing subfolders\n",
    "main_folder = 'path/to/main/folder'\n",
    "\n",
    "# Define the output folder where the separated images will be saved\n",
    "output_folder = '/scratch/rharikr3/output/'  # Create separate folders for real and fake images here\n",
    "\n",
    "# Create separate folders for real and fake images\n",
    "real_folder = os.path.join(output_folder, 'real')\n",
    "fake_folder = os.path.join(output_folder, 'fake')\n",
    "os.makedirs(real_folder, exist_ok=True)\n",
    "os.makedirs(fake_folder, exist_ok=True)\n",
    "\n",
    "# Initialize progress bar\n",
    "total_files = sum(len(files) for _, _, files in os.walk(main_folder))\n",
    "progress_bar = tqdm(total=total_files, desc=\"Processing\", unit=\"files\")\n",
    "\n",
    "# Iterate through each subfolder in the main folder\n",
    "for subfolder in os.listdir(main_folder):\n",
    "    subfolder_path = os.path.join(main_folder, subfolder)\n",
    "    if os.path.isdir(subfolder_path):\n",
    "        # Find the CSV file within the subfolder\n",
    "        csv_file = os.path.join(subfolder_path, 'metadata.csv')\n",
    "        if os.path.exists(csv_file):\n",
    "            # Read the CSV file into a pandas DataFrame\n",
    "            df = pd.read_csv(csv_file)\n",
    "            \n",
    "            # Iterate through each row in the DataFrame\n",
    "            for index, row in df.iterrows():\n",
    "                image_path = os.path.join(subfolder_path, row['image_path'])\n",
    "                target = row['target']\n",
    "                \n",
    "                # Check if the image exists\n",
    "                if os.path.exists(image_path):\n",
    "                    # Check the target label and move the image to the corresponding folder\n",
    "                    if target == 0:\n",
    "                        shutil.copy(image_path, real_folder)\n",
    "                    elif target >= 1 and target <= 6:  # Assuming target labels for fake images range from 1 to 6\n",
    "                        shutil.copy(image_path, fake_folder)\n",
    "                    progress_bar.update(1)  # Update progress bar for each processed file\n",
    "                else:\n",
    "                    print(f\"Image not found: {image_path}\")\n",
    "        else:\n",
    "            print(f\"CSV file not found in subfolder: {subfolder}\")\n",
    "    else:\n",
    "        print(f\"{subfolder} is not a directory.\")\n",
    "\n",
    "progress_bar.close()  # Close progress bar after processing\n",
    "\n",
    "print(\"Images separated into real and fake folders.\")\n"
   ]
  }
 ],
 "metadata": {
  "kernelspec": {
   "display_name": "Python 3 (ipykernel)",
   "language": "python",
   "name": "python3"
  },
  "language_info": {
   "codemirror_mode": {
    "name": "ipython",
    "version": 3
   },
   "file_extension": ".py",
   "mimetype": "text/x-python",
   "name": "python",
   "nbconvert_exporter": "python",
   "pygments_lexer": "ipython3",
   "version": "3.11.6"
  }
 },
 "nbformat": 4,
 "nbformat_minor": 5
}
